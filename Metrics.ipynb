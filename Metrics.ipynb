{
  "nbformat": 4,
  "nbformat_minor": 0,
  "metadata": {
    "colab": {
      "name": "Metrics.ipynb",
      "provenance": []
    },
    "kernelspec": {
      "name": "python3",
      "display_name": "Python 3"
    },
    "language_info": {
      "name": "python"
    }
  },
  "cells": [
    {
      "cell_type": "code",
      "execution_count": 5,
      "metadata": {
        "colab": {
          "base_uri": "https://localhost:8080/",
          "height": 487
        },
        "id": "5_v7PQb9iY7M",
        "outputId": "450df223-be4e-4e9b-9238-00e7eb3e490e"
      },
      "outputs": [
        {
          "output_type": "execute_result",
          "data": {
            "text/html": [
              "\n",
              "  <div id=\"df-0815d634-705a-46be-9d65-01752558ac5a\">\n",
              "    <div class=\"colab-df-container\">\n",
              "      <div>\n",
              "<style scoped>\n",
              "    .dataframe tbody tr th:only-of-type {\n",
              "        vertical-align: middle;\n",
              "    }\n",
              "\n",
              "    .dataframe tbody tr th {\n",
              "        vertical-align: top;\n",
              "    }\n",
              "\n",
              "    .dataframe thead th {\n",
              "        text-align: right;\n",
              "    }\n",
              "</style>\n",
              "<table border=\"1\" class=\"dataframe\">\n",
              "  <thead>\n",
              "    <tr style=\"text-align: right;\">\n",
              "      <th></th>\n",
              "      <th>Time</th>\n",
              "      <th>V1</th>\n",
              "      <th>V2</th>\n",
              "      <th>V3</th>\n",
              "      <th>V4</th>\n",
              "      <th>V5</th>\n",
              "      <th>V6</th>\n",
              "      <th>V7</th>\n",
              "      <th>V8</th>\n",
              "      <th>V9</th>\n",
              "      <th>V10</th>\n",
              "      <th>V11</th>\n",
              "      <th>V12</th>\n",
              "      <th>V13</th>\n",
              "      <th>V14</th>\n",
              "      <th>V15</th>\n",
              "      <th>V16</th>\n",
              "      <th>V17</th>\n",
              "      <th>V18</th>\n",
              "      <th>V19</th>\n",
              "      <th>V20</th>\n",
              "      <th>V21</th>\n",
              "      <th>V22</th>\n",
              "      <th>V23</th>\n",
              "      <th>V24</th>\n",
              "      <th>V25</th>\n",
              "      <th>V26</th>\n",
              "      <th>V27</th>\n",
              "      <th>V28</th>\n",
              "      <th>Amount</th>\n",
              "      <th>Class</th>\n",
              "    </tr>\n",
              "  </thead>\n",
              "  <tbody>\n",
              "    <tr>\n",
              "      <th>0</th>\n",
              "      <td>0</td>\n",
              "      <td>-1.359807</td>\n",
              "      <td>-0.072781</td>\n",
              "      <td>2.536347</td>\n",
              "      <td>1.378155</td>\n",
              "      <td>-0.338321</td>\n",
              "      <td>0.462388</td>\n",
              "      <td>0.239599</td>\n",
              "      <td>0.098698</td>\n",
              "      <td>0.363787</td>\n",
              "      <td>0.090794</td>\n",
              "      <td>-0.551600</td>\n",
              "      <td>-0.617801</td>\n",
              "      <td>-0.991390</td>\n",
              "      <td>-0.311169</td>\n",
              "      <td>1.468177</td>\n",
              "      <td>-0.470401</td>\n",
              "      <td>0.207971</td>\n",
              "      <td>0.025791</td>\n",
              "      <td>0.403993</td>\n",
              "      <td>0.251412</td>\n",
              "      <td>-0.018307</td>\n",
              "      <td>0.277838</td>\n",
              "      <td>-0.110474</td>\n",
              "      <td>0.066928</td>\n",
              "      <td>0.128539</td>\n",
              "      <td>-0.189115</td>\n",
              "      <td>0.133558</td>\n",
              "      <td>-0.021053</td>\n",
              "      <td>149.62</td>\n",
              "      <td>0.0</td>\n",
              "    </tr>\n",
              "    <tr>\n",
              "      <th>1</th>\n",
              "      <td>0</td>\n",
              "      <td>1.191857</td>\n",
              "      <td>0.266151</td>\n",
              "      <td>0.166480</td>\n",
              "      <td>0.448154</td>\n",
              "      <td>0.060018</td>\n",
              "      <td>-0.082361</td>\n",
              "      <td>-0.078803</td>\n",
              "      <td>0.085102</td>\n",
              "      <td>-0.255425</td>\n",
              "      <td>-0.166974</td>\n",
              "      <td>1.612727</td>\n",
              "      <td>1.065235</td>\n",
              "      <td>0.489095</td>\n",
              "      <td>-0.143772</td>\n",
              "      <td>0.635558</td>\n",
              "      <td>0.463917</td>\n",
              "      <td>-0.114805</td>\n",
              "      <td>-0.183361</td>\n",
              "      <td>-0.145783</td>\n",
              "      <td>-0.069083</td>\n",
              "      <td>-0.225775</td>\n",
              "      <td>-0.638672</td>\n",
              "      <td>0.101288</td>\n",
              "      <td>-0.339846</td>\n",
              "      <td>0.167170</td>\n",
              "      <td>0.125895</td>\n",
              "      <td>-0.008983</td>\n",
              "      <td>0.014724</td>\n",
              "      <td>2.69</td>\n",
              "      <td>0.0</td>\n",
              "    </tr>\n",
              "    <tr>\n",
              "      <th>2</th>\n",
              "      <td>1</td>\n",
              "      <td>-1.358354</td>\n",
              "      <td>-1.340163</td>\n",
              "      <td>1.773209</td>\n",
              "      <td>0.379780</td>\n",
              "      <td>-0.503198</td>\n",
              "      <td>1.800499</td>\n",
              "      <td>0.791461</td>\n",
              "      <td>0.247676</td>\n",
              "      <td>-1.514654</td>\n",
              "      <td>0.207643</td>\n",
              "      <td>0.624501</td>\n",
              "      <td>0.066084</td>\n",
              "      <td>0.717293</td>\n",
              "      <td>-0.165946</td>\n",
              "      <td>2.345865</td>\n",
              "      <td>-2.890083</td>\n",
              "      <td>1.109969</td>\n",
              "      <td>-0.121359</td>\n",
              "      <td>-2.261857</td>\n",
              "      <td>0.524980</td>\n",
              "      <td>0.247998</td>\n",
              "      <td>0.771679</td>\n",
              "      <td>0.909412</td>\n",
              "      <td>-0.689281</td>\n",
              "      <td>-0.327642</td>\n",
              "      <td>-0.139097</td>\n",
              "      <td>-0.055353</td>\n",
              "      <td>-0.059752</td>\n",
              "      <td>378.66</td>\n",
              "      <td>0.0</td>\n",
              "    </tr>\n",
              "    <tr>\n",
              "      <th>3</th>\n",
              "      <td>1</td>\n",
              "      <td>-0.966272</td>\n",
              "      <td>-0.185226</td>\n",
              "      <td>1.792993</td>\n",
              "      <td>-0.863291</td>\n",
              "      <td>-0.010309</td>\n",
              "      <td>1.247203</td>\n",
              "      <td>0.237609</td>\n",
              "      <td>0.377436</td>\n",
              "      <td>-1.387024</td>\n",
              "      <td>-0.054952</td>\n",
              "      <td>-0.226487</td>\n",
              "      <td>0.178228</td>\n",
              "      <td>0.507757</td>\n",
              "      <td>-0.287924</td>\n",
              "      <td>-0.631418</td>\n",
              "      <td>-1.059647</td>\n",
              "      <td>-0.684093</td>\n",
              "      <td>1.965775</td>\n",
              "      <td>-1.232622</td>\n",
              "      <td>-0.208038</td>\n",
              "      <td>-0.108300</td>\n",
              "      <td>0.005274</td>\n",
              "      <td>-0.190321</td>\n",
              "      <td>-1.175575</td>\n",
              "      <td>0.647376</td>\n",
              "      <td>-0.221929</td>\n",
              "      <td>0.062723</td>\n",
              "      <td>0.061458</td>\n",
              "      <td>123.50</td>\n",
              "      <td>0.0</td>\n",
              "    </tr>\n",
              "    <tr>\n",
              "      <th>4</th>\n",
              "      <td>2</td>\n",
              "      <td>-1.158233</td>\n",
              "      <td>0.877737</td>\n",
              "      <td>1.548718</td>\n",
              "      <td>0.403034</td>\n",
              "      <td>-0.407193</td>\n",
              "      <td>0.095921</td>\n",
              "      <td>0.592941</td>\n",
              "      <td>-0.270533</td>\n",
              "      <td>0.817739</td>\n",
              "      <td>0.753074</td>\n",
              "      <td>-0.822843</td>\n",
              "      <td>0.538196</td>\n",
              "      <td>1.345852</td>\n",
              "      <td>-1.119670</td>\n",
              "      <td>0.175121</td>\n",
              "      <td>-0.451449</td>\n",
              "      <td>-0.237033</td>\n",
              "      <td>-0.038195</td>\n",
              "      <td>0.803487</td>\n",
              "      <td>0.408542</td>\n",
              "      <td>-0.009431</td>\n",
              "      <td>0.798278</td>\n",
              "      <td>-0.137458</td>\n",
              "      <td>0.141267</td>\n",
              "      <td>-0.206010</td>\n",
              "      <td>0.502292</td>\n",
              "      <td>0.219422</td>\n",
              "      <td>0.215153</td>\n",
              "      <td>69.99</td>\n",
              "      <td>0.0</td>\n",
              "    </tr>\n",
              "    <tr>\n",
              "      <th>...</th>\n",
              "      <td>...</td>\n",
              "      <td>...</td>\n",
              "      <td>...</td>\n",
              "      <td>...</td>\n",
              "      <td>...</td>\n",
              "      <td>...</td>\n",
              "      <td>...</td>\n",
              "      <td>...</td>\n",
              "      <td>...</td>\n",
              "      <td>...</td>\n",
              "      <td>...</td>\n",
              "      <td>...</td>\n",
              "      <td>...</td>\n",
              "      <td>...</td>\n",
              "      <td>...</td>\n",
              "      <td>...</td>\n",
              "      <td>...</td>\n",
              "      <td>...</td>\n",
              "      <td>...</td>\n",
              "      <td>...</td>\n",
              "      <td>...</td>\n",
              "      <td>...</td>\n",
              "      <td>...</td>\n",
              "      <td>...</td>\n",
              "      <td>...</td>\n",
              "      <td>...</td>\n",
              "      <td>...</td>\n",
              "      <td>...</td>\n",
              "      <td>...</td>\n",
              "      <td>...</td>\n",
              "      <td>...</td>\n",
              "    </tr>\n",
              "    <tr>\n",
              "      <th>79995</th>\n",
              "      <td>58284</td>\n",
              "      <td>1.216664</td>\n",
              "      <td>0.249684</td>\n",
              "      <td>0.174210</td>\n",
              "      <td>0.510376</td>\n",
              "      <td>-0.179497</td>\n",
              "      <td>-0.560982</td>\n",
              "      <td>-0.021601</td>\n",
              "      <td>-0.028357</td>\n",
              "      <td>-0.179274</td>\n",
              "      <td>-0.112919</td>\n",
              "      <td>1.309070</td>\n",
              "      <td>0.722206</td>\n",
              "      <td>0.024770</td>\n",
              "      <td>-0.073315</td>\n",
              "      <td>0.438072</td>\n",
              "      <td>0.780292</td>\n",
              "      <td>-0.365029</td>\n",
              "      <td>0.326964</td>\n",
              "      <td>0.212787</td>\n",
              "      <td>-0.049519</td>\n",
              "      <td>-0.253330</td>\n",
              "      <td>-0.797699</td>\n",
              "      <td>0.069440</td>\n",
              "      <td>-0.041220</td>\n",
              "      <td>0.220108</td>\n",
              "      <td>0.096814</td>\n",
              "      <td>-0.030399</td>\n",
              "      <td>0.018715</td>\n",
              "      <td>11.99</td>\n",
              "      <td>0.0</td>\n",
              "    </tr>\n",
              "    <tr>\n",
              "      <th>79996</th>\n",
              "      <td>58284</td>\n",
              "      <td>-0.690760</td>\n",
              "      <td>1.331928</td>\n",
              "      <td>0.913395</td>\n",
              "      <td>0.111679</td>\n",
              "      <td>-0.344744</td>\n",
              "      <td>-1.041187</td>\n",
              "      <td>0.340727</td>\n",
              "      <td>0.379708</td>\n",
              "      <td>-0.492570</td>\n",
              "      <td>-0.725864</td>\n",
              "      <td>-0.440533</td>\n",
              "      <td>-0.175328</td>\n",
              "      <td>-0.299903</td>\n",
              "      <td>-0.017137</td>\n",
              "      <td>0.907764</td>\n",
              "      <td>0.527965</td>\n",
              "      <td>0.204175</td>\n",
              "      <td>-0.039421</td>\n",
              "      <td>-0.094320</td>\n",
              "      <td>-0.012731</td>\n",
              "      <td>-0.223222</td>\n",
              "      <td>-0.739941</td>\n",
              "      <td>0.060943</td>\n",
              "      <td>0.319461</td>\n",
              "      <td>-0.150171</td>\n",
              "      <td>0.075715</td>\n",
              "      <td>0.115052</td>\n",
              "      <td>0.034766</td>\n",
              "      <td>9.99</td>\n",
              "      <td>0.0</td>\n",
              "    </tr>\n",
              "    <tr>\n",
              "      <th>79997</th>\n",
              "      <td>58285</td>\n",
              "      <td>-2.287270</td>\n",
              "      <td>1.121568</td>\n",
              "      <td>1.163585</td>\n",
              "      <td>0.948471</td>\n",
              "      <td>-1.490482</td>\n",
              "      <td>1.046850</td>\n",
              "      <td>-0.699580</td>\n",
              "      <td>1.584645</td>\n",
              "      <td>-0.717062</td>\n",
              "      <td>-0.954794</td>\n",
              "      <td>0.501476</td>\n",
              "      <td>1.175644</td>\n",
              "      <td>0.378114</td>\n",
              "      <td>0.756961</td>\n",
              "      <td>0.358987</td>\n",
              "      <td>0.301812</td>\n",
              "      <td>0.269831</td>\n",
              "      <td>0.586977</td>\n",
              "      <td>0.571730</td>\n",
              "      <td>-0.323816</td>\n",
              "      <td>0.243795</td>\n",
              "      <td>0.398433</td>\n",
              "      <td>-0.048050</td>\n",
              "      <td>-0.282601</td>\n",
              "      <td>0.233288</td>\n",
              "      <td>-0.252045</td>\n",
              "      <td>-0.409044</td>\n",
              "      <td>-0.253114</td>\n",
              "      <td>102.08</td>\n",
              "      <td>0.0</td>\n",
              "    </tr>\n",
              "    <tr>\n",
              "      <th>79998</th>\n",
              "      <td>58286</td>\n",
              "      <td>-1.350941</td>\n",
              "      <td>0.233411</td>\n",
              "      <td>0.950824</td>\n",
              "      <td>1.023505</td>\n",
              "      <td>0.415847</td>\n",
              "      <td>-0.505863</td>\n",
              "      <td>0.711381</td>\n",
              "      <td>-0.070386</td>\n",
              "      <td>-0.193938</td>\n",
              "      <td>0.208942</td>\n",
              "      <td>-0.406974</td>\n",
              "      <td>-0.549137</td>\n",
              "      <td>-0.888598</td>\n",
              "      <td>0.415234</td>\n",
              "      <td>1.472159</td>\n",
              "      <td>-0.525311</td>\n",
              "      <td>0.088762</td>\n",
              "      <td>-0.239321</td>\n",
              "      <td>0.136668</td>\n",
              "      <td>-0.313279</td>\n",
              "      <td>0.026327</td>\n",
              "      <td>0.595887</td>\n",
              "      <td>0.461400</td>\n",
              "      <td>0.066594</td>\n",
              "      <td>-0.158632</td>\n",
              "      <td>-0.273392</td>\n",
              "      <td>0.350422</td>\n",
              "      <td>0.140851</td>\n",
              "      <td>67.50</td>\n",
              "      <td>0.0</td>\n",
              "    </tr>\n",
              "    <tr>\n",
              "      <th>79999</th>\n",
              "      <td>58287</td>\n",
              "      <td>-2.007004</td>\n",
              "      <td>0.736137</td>\n",
              "      <td>0.051847</td>\n",
              "      <td>-2.120136</td>\n",
              "      <td>-0.034212</td>\n",
              "      <td>-0.335378</td>\n",
              "      <td>1.294663</td>\n",
              "      <td>-2.431624</td>\n",
              "      <td>1.773854</td>\n",
              "      <td>0.220403</td>\n",
              "      <td>0.899449</td>\n",
              "      <td>0.600870</td>\n",
              "      <td>-1.000116</td>\n",
              "      <td>-0.283793</td>\n",
              "      <td>-0.521240</td>\n",
              "      <td>-0.791677</td>\n",
              "      <td>-0.717891</td>\n",
              "      <td>0.364789</td>\n",
              "      <td>0.634716</td>\n",
              "      <td>-0.841477</td>\n",
              "      <td>1.375444</td>\n",
              "      <td>0.209020</td>\n",
              "      <td>0.174004</td>\n",
              "      <td>0.007307</td>\n",
              "      <td>-0.082919</td>\n",
              "      <td>-0.962304</td>\n",
              "      <td>-0.950551</td>\n",
              "      <td>-0.591748</td>\n",
              "      <td>117.13</td>\n",
              "      <td>0.0</td>\n",
              "    </tr>\n",
              "  </tbody>\n",
              "</table>\n",
              "<p>80000 rows × 31 columns</p>\n",
              "</div>\n",
              "      <button class=\"colab-df-convert\" onclick=\"convertToInteractive('df-0815d634-705a-46be-9d65-01752558ac5a')\"\n",
              "              title=\"Convert this dataframe to an interactive table.\"\n",
              "              style=\"display:none;\">\n",
              "        \n",
              "  <svg xmlns=\"http://www.w3.org/2000/svg\" height=\"24px\"viewBox=\"0 0 24 24\"\n",
              "       width=\"24px\">\n",
              "    <path d=\"M0 0h24v24H0V0z\" fill=\"none\"/>\n",
              "    <path d=\"M18.56 5.44l.94 2.06.94-2.06 2.06-.94-2.06-.94-.94-2.06-.94 2.06-2.06.94zm-11 1L8.5 8.5l.94-2.06 2.06-.94-2.06-.94L8.5 2.5l-.94 2.06-2.06.94zm10 10l.94 2.06.94-2.06 2.06-.94-2.06-.94-.94-2.06-.94 2.06-2.06.94z\"/><path d=\"M17.41 7.96l-1.37-1.37c-.4-.4-.92-.59-1.43-.59-.52 0-1.04.2-1.43.59L10.3 9.45l-7.72 7.72c-.78.78-.78 2.05 0 2.83L4 21.41c.39.39.9.59 1.41.59.51 0 1.02-.2 1.41-.59l7.78-7.78 2.81-2.81c.8-.78.8-2.07 0-2.86zM5.41 20L4 18.59l7.72-7.72 1.47 1.35L5.41 20z\"/>\n",
              "  </svg>\n",
              "      </button>\n",
              "      \n",
              "  <style>\n",
              "    .colab-df-container {\n",
              "      display:flex;\n",
              "      flex-wrap:wrap;\n",
              "      gap: 12px;\n",
              "    }\n",
              "\n",
              "    .colab-df-convert {\n",
              "      background-color: #E8F0FE;\n",
              "      border: none;\n",
              "      border-radius: 50%;\n",
              "      cursor: pointer;\n",
              "      display: none;\n",
              "      fill: #1967D2;\n",
              "      height: 32px;\n",
              "      padding: 0 0 0 0;\n",
              "      width: 32px;\n",
              "    }\n",
              "\n",
              "    .colab-df-convert:hover {\n",
              "      background-color: #E2EBFA;\n",
              "      box-shadow: 0px 1px 2px rgba(60, 64, 67, 0.3), 0px 1px 3px 1px rgba(60, 64, 67, 0.15);\n",
              "      fill: #174EA6;\n",
              "    }\n",
              "\n",
              "    [theme=dark] .colab-df-convert {\n",
              "      background-color: #3B4455;\n",
              "      fill: #D2E3FC;\n",
              "    }\n",
              "\n",
              "    [theme=dark] .colab-df-convert:hover {\n",
              "      background-color: #434B5C;\n",
              "      box-shadow: 0px 1px 3px 1px rgba(0, 0, 0, 0.15);\n",
              "      filter: drop-shadow(0px 1px 2px rgba(0, 0, 0, 0.3));\n",
              "      fill: #FFFFFF;\n",
              "    }\n",
              "  </style>\n",
              "\n",
              "      <script>\n",
              "        const buttonEl =\n",
              "          document.querySelector('#df-0815d634-705a-46be-9d65-01752558ac5a button.colab-df-convert');\n",
              "        buttonEl.style.display =\n",
              "          google.colab.kernel.accessAllowed ? 'block' : 'none';\n",
              "\n",
              "        async function convertToInteractive(key) {\n",
              "          const element = document.querySelector('#df-0815d634-705a-46be-9d65-01752558ac5a');\n",
              "          const dataTable =\n",
              "            await google.colab.kernel.invokeFunction('convertToInteractive',\n",
              "                                                     [key], {});\n",
              "          if (!dataTable) return;\n",
              "\n",
              "          const docLinkHtml = 'Like what you see? Visit the ' +\n",
              "            '<a target=\"_blank\" href=https://colab.research.google.com/notebooks/data_table.ipynb>data table notebook</a>'\n",
              "            + ' to learn more about interactive tables.';\n",
              "          element.innerHTML = '';\n",
              "          dataTable['output_type'] = 'display_data';\n",
              "          await google.colab.output.renderOutput(dataTable, element);\n",
              "          const docLink = document.createElement('div');\n",
              "          docLink.innerHTML = docLinkHtml;\n",
              "          element.appendChild(docLink);\n",
              "        }\n",
              "      </script>\n",
              "    </div>\n",
              "  </div>\n",
              "  "
            ],
            "text/plain": [
              "        Time        V1        V2        V3  ...       V27       V28  Amount  Class\n",
              "0          0 -1.359807 -0.072781  2.536347  ...  0.133558 -0.021053  149.62    0.0\n",
              "1          0  1.191857  0.266151  0.166480  ... -0.008983  0.014724    2.69    0.0\n",
              "2          1 -1.358354 -1.340163  1.773209  ... -0.055353 -0.059752  378.66    0.0\n",
              "3          1 -0.966272 -0.185226  1.792993  ...  0.062723  0.061458  123.50    0.0\n",
              "4          2 -1.158233  0.877737  1.548718  ...  0.219422  0.215153   69.99    0.0\n",
              "...      ...       ...       ...       ...  ...       ...       ...     ...    ...\n",
              "79995  58284  1.216664  0.249684  0.174210  ... -0.030399  0.018715   11.99    0.0\n",
              "79996  58284 -0.690760  1.331928  0.913395  ...  0.115052  0.034766    9.99    0.0\n",
              "79997  58285 -2.287270  1.121568  1.163585  ... -0.409044 -0.253114  102.08    0.0\n",
              "79998  58286 -1.350941  0.233411  0.950824  ...  0.350422  0.140851   67.50    0.0\n",
              "79999  58287 -2.007004  0.736137  0.051847  ... -0.950551 -0.591748  117.13    0.0\n",
              "\n",
              "[80000 rows x 31 columns]"
            ]
          },
          "metadata": {},
          "execution_count": 5
        }
      ],
      "source": [
        "import numpy as np\n",
        "import pandas as pd\n",
        "import matplotlib.pylab as plt\n",
        "\n",
        "df  = pd.read_csv(\"/content/creditcard.csv\")[:80_000]\n",
        "df.head(80000)"
      ]
    },
    {
      "cell_type": "code",
      "source": [
        "X = df.drop(columns=['Time', 'Amount', 'Class']).values\n",
        "y = df['Class'].values\n",
        "f\"Shapes of X={X.shape} y={y.shape}, #Fraud Cases={y.sum()}\""
      ],
      "metadata": {
        "colab": {
          "base_uri": "https://localhost:8080/",
          "height": 35
        },
        "id": "smP_VXFUQjzZ",
        "outputId": "d54e9455-a95b-4ba8-9330-fee158828865"
      },
      "execution_count": 6,
      "outputs": [
        {
          "output_type": "execute_result",
          "data": {
            "application/vnd.google.colaboratory.intrinsic+json": {
              "type": "string"
            },
            "text/plain": [
              "'Shapes of X=(80000, 28) y=(80000,), #Fraud Cases=196.0'"
            ]
          },
          "metadata": {},
          "execution_count": 6
        }
      ]
    },
    {
      "cell_type": "code",
      "source": [
        "from sklearn.linear_model import LogisticRegression\n",
        "\n",
        "mod = LogisticRegression(max_iter=1000)\n",
        "mod.fit(X, y).predict(X).sum()"
      ],
      "metadata": {
        "id": "Pe3a64YbnOwK",
        "colab": {
          "base_uri": "https://localhost:8080/"
        },
        "outputId": "96e735b9-82a0-4ddb-ce4f-990806f4c991"
      },
      "execution_count": 7,
      "outputs": [
        {
          "output_type": "execute_result",
          "data": {
            "text/plain": [
              "151.0"
            ]
          },
          "metadata": {},
          "execution_count": 7
        }
      ]
    },
    {
      "cell_type": "code",
      "source": [
        "from sklearn.linear_model import LogisticRegression\n",
        "\n",
        "#class_weight : dict or 'balanced', default=None\n",
        "#Weights associated with classes in the form {class_label: weight}.\n",
        "#If not given, all classes are supposed to have weight one.\n",
        "mod = LogisticRegression(class_weight={0: 1, 1: 2}, max_iter=1000)\n",
        "mod.fit(X, y).predict(X).sum()"
      ],
      "metadata": {
        "colab": {
          "base_uri": "https://localhost:8080/"
        },
        "id": "YvDUSk0CQu9J",
        "outputId": "d96aa8c9-cbac-40f2-9366-86d2126d3dfc"
      },
      "execution_count": 8,
      "outputs": [
        {
          "output_type": "execute_result",
          "data": {
            "text/plain": [
              "171.0"
            ]
          },
          "metadata": {},
          "execution_count": 8
        }
      ]
    },
    {
      "cell_type": "code",
      "source": [
        "from sklearn.model_selection import GridSearchCV\n",
        "\n",
        "\n",
        "#GridSearchCV implements a \"fit\" and a \"score\" method.\n",
        "#It also implements \"score_samples\", \"predict\", \"predict_proba\",\n",
        "#\"decision_function\", \"transform\" and \"inverse_transform\" if they are\n",
        "#implemented in the estimator used.\n",
        "grid = GridSearchCV(\n",
        "    estimator = LogisticRegression(max_iter=1000),\n",
        "    param_grid={'class_weight': [{0: 1, 1: v} for v in range(1, 4)]}, #setting to loop over\n",
        "    cv=4,\n",
        "    n_jobs=-1 #this grid search appear a paralel\n",
        ")\n",
        "grid.fit(X, y)\n"
      ],
      "metadata": {
        "colab": {
          "base_uri": "https://localhost:8080/"
        },
        "id": "ARbn9rOjSEIG",
        "outputId": "ffbab32f-298a-412d-d889-2c96e81a5f7a"
      },
      "execution_count": 9,
      "outputs": [
        {
          "output_type": "execute_result",
          "data": {
            "text/plain": [
              "GridSearchCV(cv=4, estimator=LogisticRegression(max_iter=1000), n_jobs=-1,\n",
              "             param_grid={'class_weight': [{0: 1, 1: 1}, {0: 1, 1: 2},\n",
              "                                          {0: 1, 1: 3}]})"
            ]
          },
          "metadata": {},
          "execution_count": 9
        }
      ]
    },
    {
      "cell_type": "code",
      "source": [
        "#Where the this scores comes from even the gris doesnt have any metris is \n",
        "lr = LogisticRegression()\n",
        "??lr.score #this shows the implementation of it\n",
        "#it says unless we pecify score for LogisticRegression just gioing to be accuracy"
      ],
      "metadata": {
        "id": "7xFoeeByU56u"
      },
      "execution_count": 13,
      "outputs": []
    },
    {
      "cell_type": "code",
      "source": [
        "grid.cv_results_"
      ],
      "metadata": {
        "colab": {
          "base_uri": "https://localhost:8080/"
        },
        "id": "LxUVdVLjUOe9",
        "outputId": "23a18ff8-6ddb-440a-ec12-8125cd6eb051"
      },
      "execution_count": 10,
      "outputs": [
        {
          "output_type": "execute_result",
          "data": {
            "text/plain": [
              "{'mean_fit_time': array([1.8960197 , 1.55637306, 1.5070166 ]),\n",
              " 'mean_score_time': array([0.00518435, 0.00526911, 0.00432384]),\n",
              " 'mean_test_score': array([0.9974125, 0.996575 , 0.995875 ]),\n",
              " 'param_class_weight': masked_array(data=[{0: 1, 1: 1}, {0: 1, 1: 2}, {0: 1, 1: 3}],\n",
              "              mask=[False, False, False],\n",
              "        fill_value='?',\n",
              "             dtype=object),\n",
              " 'params': [{'class_weight': {0: 1, 1: 1}},\n",
              "  {'class_weight': {0: 1, 1: 2}},\n",
              "  {'class_weight': {0: 1, 1: 3}}],\n",
              " 'rank_test_score': array([1, 2, 3], dtype=int32),\n",
              " 'split0_test_score': array([0.99405, 0.99025, 0.9873 ]),\n",
              " 'split1_test_score': array([0.99835, 0.9984 , 0.99845]),\n",
              " 'split2_test_score': array([0.99945, 0.9996 , 0.9996 ]),\n",
              " 'split3_test_score': array([0.9978 , 0.99805, 0.99815]),\n",
              " 'std_fit_time': array([0.17419669, 0.46529582, 0.1569929 ]),\n",
              " 'std_score_time': array([0.00022984, 0.00052024, 0.00066938]),\n",
              " 'std_test_score': array([0.0020302 , 0.0036967 , 0.00498027])}"
            ]
          },
          "metadata": {},
          "execution_count": 10
        }
      ]
    },
    {
      "cell_type": "code",
      "source": [
        "pd.DataFrame(grid.cv_results_)\n",
        "#this score the grid serch use to choose best model"
      ],
      "metadata": {
        "colab": {
          "base_uri": "https://localhost:8080/",
          "height": 259
        },
        "id": "EiqTAL9xUdU8",
        "outputId": "c534b096-b425-4c43-d11e-3c761673afe1"
      },
      "execution_count": 11,
      "outputs": [
        {
          "output_type": "execute_result",
          "data": {
            "text/html": [
              "\n",
              "  <div id=\"df-de2474ad-1dd7-4100-a0da-6dd0a40e1a90\">\n",
              "    <div class=\"colab-df-container\">\n",
              "      <div>\n",
              "<style scoped>\n",
              "    .dataframe tbody tr th:only-of-type {\n",
              "        vertical-align: middle;\n",
              "    }\n",
              "\n",
              "    .dataframe tbody tr th {\n",
              "        vertical-align: top;\n",
              "    }\n",
              "\n",
              "    .dataframe thead th {\n",
              "        text-align: right;\n",
              "    }\n",
              "</style>\n",
              "<table border=\"1\" class=\"dataframe\">\n",
              "  <thead>\n",
              "    <tr style=\"text-align: right;\">\n",
              "      <th></th>\n",
              "      <th>mean_fit_time</th>\n",
              "      <th>std_fit_time</th>\n",
              "      <th>mean_score_time</th>\n",
              "      <th>std_score_time</th>\n",
              "      <th>param_class_weight</th>\n",
              "      <th>params</th>\n",
              "      <th>split0_test_score</th>\n",
              "      <th>split1_test_score</th>\n",
              "      <th>split2_test_score</th>\n",
              "      <th>split3_test_score</th>\n",
              "      <th>mean_test_score</th>\n",
              "      <th>std_test_score</th>\n",
              "      <th>rank_test_score</th>\n",
              "    </tr>\n",
              "  </thead>\n",
              "  <tbody>\n",
              "    <tr>\n",
              "      <th>0</th>\n",
              "      <td>1.896020</td>\n",
              "      <td>0.174197</td>\n",
              "      <td>0.005184</td>\n",
              "      <td>0.000230</td>\n",
              "      <td>{0: 1, 1: 1}</td>\n",
              "      <td>{'class_weight': {0: 1, 1: 1}}</td>\n",
              "      <td>0.99405</td>\n",
              "      <td>0.99835</td>\n",
              "      <td>0.99945</td>\n",
              "      <td>0.99780</td>\n",
              "      <td>0.997413</td>\n",
              "      <td>0.002030</td>\n",
              "      <td>1</td>\n",
              "    </tr>\n",
              "    <tr>\n",
              "      <th>1</th>\n",
              "      <td>1.556373</td>\n",
              "      <td>0.465296</td>\n",
              "      <td>0.005269</td>\n",
              "      <td>0.000520</td>\n",
              "      <td>{0: 1, 1: 2}</td>\n",
              "      <td>{'class_weight': {0: 1, 1: 2}}</td>\n",
              "      <td>0.99025</td>\n",
              "      <td>0.99840</td>\n",
              "      <td>0.99960</td>\n",
              "      <td>0.99805</td>\n",
              "      <td>0.996575</td>\n",
              "      <td>0.003697</td>\n",
              "      <td>2</td>\n",
              "    </tr>\n",
              "    <tr>\n",
              "      <th>2</th>\n",
              "      <td>1.507017</td>\n",
              "      <td>0.156993</td>\n",
              "      <td>0.004324</td>\n",
              "      <td>0.000669</td>\n",
              "      <td>{0: 1, 1: 3}</td>\n",
              "      <td>{'class_weight': {0: 1, 1: 3}}</td>\n",
              "      <td>0.98730</td>\n",
              "      <td>0.99845</td>\n",
              "      <td>0.99960</td>\n",
              "      <td>0.99815</td>\n",
              "      <td>0.995875</td>\n",
              "      <td>0.004980</td>\n",
              "      <td>3</td>\n",
              "    </tr>\n",
              "  </tbody>\n",
              "</table>\n",
              "</div>\n",
              "      <button class=\"colab-df-convert\" onclick=\"convertToInteractive('df-de2474ad-1dd7-4100-a0da-6dd0a40e1a90')\"\n",
              "              title=\"Convert this dataframe to an interactive table.\"\n",
              "              style=\"display:none;\">\n",
              "        \n",
              "  <svg xmlns=\"http://www.w3.org/2000/svg\" height=\"24px\"viewBox=\"0 0 24 24\"\n",
              "       width=\"24px\">\n",
              "    <path d=\"M0 0h24v24H0V0z\" fill=\"none\"/>\n",
              "    <path d=\"M18.56 5.44l.94 2.06.94-2.06 2.06-.94-2.06-.94-.94-2.06-.94 2.06-2.06.94zm-11 1L8.5 8.5l.94-2.06 2.06-.94-2.06-.94L8.5 2.5l-.94 2.06-2.06.94zm10 10l.94 2.06.94-2.06 2.06-.94-2.06-.94-.94-2.06-.94 2.06-2.06.94z\"/><path d=\"M17.41 7.96l-1.37-1.37c-.4-.4-.92-.59-1.43-.59-.52 0-1.04.2-1.43.59L10.3 9.45l-7.72 7.72c-.78.78-.78 2.05 0 2.83L4 21.41c.39.39.9.59 1.41.59.51 0 1.02-.2 1.41-.59l7.78-7.78 2.81-2.81c.8-.78.8-2.07 0-2.86zM5.41 20L4 18.59l7.72-7.72 1.47 1.35L5.41 20z\"/>\n",
              "  </svg>\n",
              "      </button>\n",
              "      \n",
              "  <style>\n",
              "    .colab-df-container {\n",
              "      display:flex;\n",
              "      flex-wrap:wrap;\n",
              "      gap: 12px;\n",
              "    }\n",
              "\n",
              "    .colab-df-convert {\n",
              "      background-color: #E8F0FE;\n",
              "      border: none;\n",
              "      border-radius: 50%;\n",
              "      cursor: pointer;\n",
              "      display: none;\n",
              "      fill: #1967D2;\n",
              "      height: 32px;\n",
              "      padding: 0 0 0 0;\n",
              "      width: 32px;\n",
              "    }\n",
              "\n",
              "    .colab-df-convert:hover {\n",
              "      background-color: #E2EBFA;\n",
              "      box-shadow: 0px 1px 2px rgba(60, 64, 67, 0.3), 0px 1px 3px 1px rgba(60, 64, 67, 0.15);\n",
              "      fill: #174EA6;\n",
              "    }\n",
              "\n",
              "    [theme=dark] .colab-df-convert {\n",
              "      background-color: #3B4455;\n",
              "      fill: #D2E3FC;\n",
              "    }\n",
              "\n",
              "    [theme=dark] .colab-df-convert:hover {\n",
              "      background-color: #434B5C;\n",
              "      box-shadow: 0px 1px 3px 1px rgba(0, 0, 0, 0.15);\n",
              "      filter: drop-shadow(0px 1px 2px rgba(0, 0, 0, 0.3));\n",
              "      fill: #FFFFFF;\n",
              "    }\n",
              "  </style>\n",
              "\n",
              "      <script>\n",
              "        const buttonEl =\n",
              "          document.querySelector('#df-de2474ad-1dd7-4100-a0da-6dd0a40e1a90 button.colab-df-convert');\n",
              "        buttonEl.style.display =\n",
              "          google.colab.kernel.accessAllowed ? 'block' : 'none';\n",
              "\n",
              "        async function convertToInteractive(key) {\n",
              "          const element = document.querySelector('#df-de2474ad-1dd7-4100-a0da-6dd0a40e1a90');\n",
              "          const dataTable =\n",
              "            await google.colab.kernel.invokeFunction('convertToInteractive',\n",
              "                                                     [key], {});\n",
              "          if (!dataTable) return;\n",
              "\n",
              "          const docLinkHtml = 'Like what you see? Visit the ' +\n",
              "            '<a target=\"_blank\" href=https://colab.research.google.com/notebooks/data_table.ipynb>data table notebook</a>'\n",
              "            + ' to learn more about interactive tables.';\n",
              "          element.innerHTML = '';\n",
              "          dataTable['output_type'] = 'display_data';\n",
              "          await google.colab.output.renderOutput(dataTable, element);\n",
              "          const docLink = document.createElement('div');\n",
              "          docLink.innerHTML = docLinkHtml;\n",
              "          element.appendChild(docLink);\n",
              "        }\n",
              "      </script>\n",
              "    </div>\n",
              "  </div>\n",
              "  "
            ],
            "text/plain": [
              "   mean_fit_time  std_fit_time  ...  std_test_score  rank_test_score\n",
              "0       1.896020      0.174197  ...        0.002030                1\n",
              "1       1.556373      0.465296  ...        0.003697                2\n",
              "2       1.507017      0.156993  ...        0.004980                3\n",
              "\n",
              "[3 rows x 13 columns]"
            ]
          },
          "metadata": {},
          "execution_count": 11
        }
      ]
    },
    {
      "cell_type": "markdown",
      "source": [
        "#With make_scorer: "
      ],
      "metadata": {
        "id": "2Bmv0iR1pNO1"
      }
    },
    {
      "cell_type": "code",
      "source": [
        "from sklearn.metrics import precision_score, recall_score, make_scorer\n",
        "#recall_score gives that did I get all the froud cases\n",
        "#precision_score gives me that I predict froud ho accurate am i \n",
        "recall_score(y, grid.predict(X))"
      ],
      "metadata": {
        "colab": {
          "base_uri": "https://localhost:8080/"
        },
        "id": "hHo8YrKOWdJX",
        "outputId": "7d4a2091-3dc6-4e1a-b76e-b7804042d5c4"
      },
      "execution_count": 15,
      "outputs": [
        {
          "output_type": "execute_result",
          "data": {
            "text/plain": [
              "0.5918367346938775"
            ]
          },
          "metadata": {},
          "execution_count": 15
        }
      ]
    },
    {
      "cell_type": "code",
      "source": [
        "grid = GridSearchCV(\n",
        "    estimator=LogisticRegression(max_iter=1000),\n",
        "    param_grid={'class_weight': [{0: 1, 1: v} for v in np.linspace(1, 20, 30)]},\n",
        "    scoring={'precision': make_scorer(precision_score), 'recall': make_scorer(recall_score)},\n",
        "    refit='precision',\n",
        "    return_train_score=True,\n",
        "    cv=10,\n",
        "    n_jobs=-1\n",
        ")\n",
        "grid.fit(X, y);"
      ],
      "metadata": {
        "id": "O0emish0XZpm"
      },
      "execution_count": 16,
      "outputs": []
    },
    {
      "cell_type": "code",
      "source": [
        "plt.figure(figsize=(12, 4))\n",
        "df_results = pd.DataFrame(grid.cv_results_)\n",
        "for score in ['mean_test_recall', 'mean_test_precision']:\n",
        "    plt.plot([_[1] for _ in df_results['param_class_weight']], \n",
        "             df_results[score], \n",
        "             label=score)\n",
        "plt.legend();"
      ],
      "metadata": {
        "colab": {
          "base_uri": "https://localhost:8080/",
          "height": 250
        },
        "id": "67gTAIOndDg0",
        "outputId": "992d70ee-272c-4f12-b08a-47722fe842e2"
      },
      "execution_count": 17,
      "outputs": [
        {
          "output_type": "display_data",
          "data": {
            "image/png": "[encoded data removed]",
            "text/plain": [
              "<Figure size 864x288 with 1 Axes>"
            ]
          },
          "metadata": {
            "needs_background": "light"
          }
        }
      ]
    },
    {
      "cell_type": "code",
      "source": [
        "#we will create our own metric like f1 to find the best between recall and precision\n",
        "#find the min of recall and precision\n",
        "def min_recall_precision(y_true, y_pred):\n",
        "    recall = recall_score(y_true, y_pred)\n",
        "    precision = precision_score(y_true, y_pred)\n",
        "    return min(recall, precision)\n",
        "\n",
        "grid = GridSearchCV(\n",
        "    estimator=LogisticRegression(max_iter=1000),\n",
        "    param_grid={'class_weight': [{0: 1, 1: v} for v in np.linspace(1, 20, 30)]},\n",
        "    scoring={'precision': make_scorer(precision_score),\n",
        "             'recall': make_scorer(recall_score), \n",
        "             'min_both': make_scorer(min_recall_precision)},\n",
        "    refit='min_both',\n",
        "    return_train_score=True,\n",
        "    cv=10,\n",
        "    n_jobs=-1\n",
        ")\n",
        "grid.fit(X, y);"
      ],
      "metadata": {
        "id": "gfl1PhGgmvV5"
      },
      "execution_count": 18,
      "outputs": []
    },
    {
      "cell_type": "code",
      "source": [
        "plt.figure(figsize=(12, 4))\n",
        "df_results = pd.DataFrame(grid.cv_results_)\n",
        "for score in ['mean_test_recall', 'mean_test_precision', 'mean_test_min_both']:\n",
        "    plt.plot([_[1] for _ in df_results['param_class_weight']], \n",
        "             df_results[score], \n",
        "             label=score)\n",
        "plt.legend();"
      ],
      "metadata": {
        "colab": {
          "base_uri": "https://localhost:8080/",
          "height": 288
        },
        "id": "XounAmxHRtXj",
        "outputId": "d09d4a24-f9e0-4eb5-c68e-63a8867fed18"
      },
      "execution_count": 19,
      "outputs": [
        {
          "output_type": "display_data",
          "data": {
            "image/png": "[encoded data removed]",
            "text/plain": [
              "<Figure size 864x288 with 1 Axes>"
            ]
          },
          "metadata": {
            "needs_background": "light"
          }
        }
      ]
    },
    {
      "cell_type": "markdown",
      "source": [
        "#Without make_scorer"
      ],
      "metadata": {
        "id": "WvVhZgtrrYIc"
      }
    },
    {
      "cell_type": "code",
      "source": [
        "s = make_scorer(min_recall_precision)\n",
        "??s\n",
        "#Signature:      s(estimator, X, y_true, sample_weight=None)\n",
        "#sample_weight=None ---> this says hey this row more important the other rows pay attantion\n",
        "#Type:           _PredictScorer\n",
        "#like F(y_true, y_pred) ==make_scorer==> s(est, X, y, w)\n",
        "#we can do all this without make_scorer using its signature"
      ],
      "metadata": {
        "id": "3knTY4bdUc3t"
      },
      "execution_count": 20,
      "outputs": []
    },
    {
      "cell_type": "code",
      "source": [
        "def min_recall_precision(est, X, y_true, sample_weight=None):\n",
        "    y_pred = est.predict(X)\n",
        "    recall = recall_score(y_true, y_pred)\n",
        "    precision = precision_score(y_true, y_pred)\n",
        "    return min(recall, precision)\n",
        "\n",
        "grid = GridSearchCV(\n",
        "    estimator=LogisticRegression(max_iter=1000),\n",
        "    param_grid={'class_weight': [{0: 1, 1: v} for v in np.linspace(1, 20, 30)]},\n",
        "    scoring={'precision': make_scorer(precision_score), \n",
        "             'recall': make_scorer(recall_score),\n",
        "             'min_both': min_recall_precision},\n",
        "    refit='min_both',\n",
        "    return_train_score=True,\n",
        "    cv=10,\n",
        "    n_jobs=-1\n",
        ")\n",
        "grid.fit(X, y, sample_weight= np.log(1 + df['Amount'])); #take  log for no to over fit"
      ],
      "metadata": {
        "id": "YF_pbT1dUN05"
      },
      "execution_count": 22,
      "outputs": []
    },
    {
      "cell_type": "code",
      "source": [
        "plt.figure(figsize=(12, 4))\n",
        "df_results = pd.DataFrame(grid.cv_results_)\n",
        "for score in ['mean_test_recall', 'mean_test_precision', 'mean_test_min_both']:\n",
        "    plt.plot([_[1] for _ in df_results['param_class_weight']], \n",
        "             df_results[score], \n",
        "             label=score)\n",
        "plt.legend();\n",
        "#Balance is changed , sample weight definetly effects the algorithm"
      ],
      "metadata": {
        "colab": {
          "base_uri": "https://localhost:8080/",
          "height": 250
        },
        "id": "yeiWICr0uD7C",
        "outputId": "037f9e5a-e294-4cdd-901c-4addcb876de1"
      },
      "execution_count": 23,
      "outputs": [
        {
          "output_type": "display_data",
          "data": {
            "image/png": "[encoded data removed]",
            "text/plain": [
              "<Figure size 864x288 with 1 Axes>"
            ]
          },
          "metadata": {
            "needs_background": "light"
          }
        }
      ]
    },
    {
      "cell_type": "code",
      "source": [
        "plt.figure(figsize=(12, 4))\n",
        "df_results = pd.DataFrame(grid.cv_results_)\n",
        "for score in ['mean_train_recall', 'mean_train_precision', 'mean_test_min_both']:\n",
        "    plt.scatter(x=[_[1] for _ in df_results['param_class_weight']], \n",
        "                y=df_results[score.replace('test', 'train')], \n",
        "                label=score)\n",
        "plt.legend();"
      ],
      "metadata": {
        "colab": {
          "base_uri": "https://localhost:8080/",
          "height": 250
        },
        "id": "fdSYrkoLvZYw",
        "outputId": "ad3ee228-6c1c-48b0-85d1-6760a801c9c9"
      },
      "execution_count": 24,
      "outputs": [
        {
          "output_type": "display_data",
          "data": {
            "image/png": "[encoded data removed]",
            "text/plain": [
              "<Figure size 864x288 with 1 Axes>"
            ]
          },
          "metadata": {
            "needs_background": "light"
          }
        }
      ]
    },
    {
      "cell_type": "markdown",
      "source": [
        "#Using Outlier Detection Models\n",
        "In this data set froud is a outliner that it is rare and not ordinary. But when we write froud detection algorithm might not corralate with froud. we will try to replace LogisticRegression with a out llne detector and adopt this in the metric to check if its the case"
      ],
      "metadata": {
        "id": "EuEE2jj7umHf"
      }
    },
    {
      "cell_type": "code",
      "source": [
        "from collections import Counter\n",
        "from sklearn.ensemble import IsolationForest #outline detector algorithm\n",
        "mod = IsolationForest().fit(X) #when we say fit it just need data set\n",
        "mod.predict(X)\n",
        "Counter(mod.predict(X)) #it shows that -1 is a outliner"
      ],
      "metadata": {
        "colab": {
          "base_uri": "https://localhost:8080/"
        },
        "id": "cGaDGIu5SDVC",
        "outputId": "19909bb2-4c8c-4b54-b036-631685af9cfb"
      },
      "execution_count": 27,
      "outputs": [
        {
          "output_type": "execute_result",
          "data": {
            "text/plain": [
              "Counter({-1: 3223, 1: 76777})"
            ]
          },
          "metadata": {},
          "execution_count": 27
        }
      ]
    },
    {
      "cell_type": "code",
      "source": [
        "np.where(mod.predict(X) == -1, 1, 0)#if predict -1 I want 1 else 0"
      ],
      "metadata": {
        "colab": {
          "base_uri": "https://localhost:8080/"
        },
        "id": "STGDXqyB1ffG",
        "outputId": "ae6f1105-aa4b-4032-c6ef-86750c5159ed"
      },
      "execution_count": 29,
      "outputs": [
        {
          "output_type": "execute_result",
          "data": {
            "text/plain": [
              "array([0, 0, 0, ..., 0, 0, 0])"
            ]
          },
          "metadata": {},
          "execution_count": 29
        }
      ]
    },
    {
      "cell_type": "code",
      "source": [
        "def outlier_precision(mod, X, y): #own costum metric\n",
        "    preds = mod.predict(X)\n",
        "    return precision_score(y, np.where(preds == -1, 1, 0))\n",
        "\n",
        "def outlier_recall(mod, X, y):  #own costum metric\n",
        "    preds = mod.predict(X)\n",
        "    return recall_score(y, np.where(preds == -1, 1, 0))\n",
        "\n",
        "grid = GridSearchCV(\n",
        "    estimator=IsolationForest(),\n",
        "    param_grid={'contamination': np.linspace(0.001, 0.02, 10)}, #contamination as a hyperprameter that I want to tune\n",
        "    scoring={'precision': outlier_precision, \n",
        "             'recall': outlier_recall},\n",
        "    refit='precision',\n",
        "    cv=5,\n",
        "    n_jobs=-1\n",
        ")\n",
        "grid.fit(X, y);\n",
        "\n",
        "plt.figure(figsize=(12, 4))\n",
        "df_results = pd.DataFrame(grid.cv_results_)\n",
        "for score in ['mean_test_recall', 'mean_test_precision']:\n",
        "    plt.plot(df_results['param_contamination'], \n",
        "             df_results[score], \n",
        "             label=score)\n",
        "plt.legend();\n"
      ],
      "metadata": {
        "colab": {
          "base_uri": "https://localhost:8080/",
          "height": 252
        },
        "id": "L6_fSI2B2Si4",
        "outputId": "7155be6c-aeb3-4f85-bbd4-eba2ef6d044e"
      },
      "execution_count": 30,
      "outputs": [
        {
          "output_type": "display_data",
          "data": {
            "image/png": "[encoded data removed]",
            "text/plain": [
              "<Figure size 864x288 with 1 Axes>"
            ]
          },
          "metadata": {
            "needs_background": "light"
          }
        }
      ]
    }
  ]
}