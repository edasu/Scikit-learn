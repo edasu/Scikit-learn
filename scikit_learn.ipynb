{
  "nbformat": 4,
  "nbformat_minor": 0,
  "metadata": {
    "colab": {
      "name": "scikit-learn.ipynb",
      "provenance": [],
      "collapsed_sections": []
    },
    "kernelspec": {
      "name": "python3",
      "display_name": "Python 3"
    }
  },
  "cells": [
    {
      "cell_type": "code",
      "metadata": {
        "colab": {
          "base_uri": "https://localhost:8080/"
        },
        "id": "K6N_H2t1LXyb",
        "outputId": "3cd0a095-2661-4c7a-e2b8-81aad7cec379"
      },
      "source": [
        "pip install scikit-learn==0.23.0"
      ],
      "execution_count": 8,
      "outputs": [
        {
          "output_type": "stream",
          "name": "stdout",
          "text": [
            "Requirement already satisfied: scikit-learn==0.23.0 in /usr/local/lib/python3.7/dist-packages (0.23.0)\n",
            "Requirement already satisfied: numpy>=1.13.3 in /usr/local/lib/python3.7/dist-packages (from scikit-learn==0.23.0) (1.19.5)\n",
            "Requirement already satisfied: joblib>=0.11 in /usr/local/lib/python3.7/dist-packages (from scikit-learn==0.23.0) (1.1.0)\n",
            "Requirement already satisfied: threadpoolctl>=2.0.0 in /usr/local/lib/python3.7/dist-packages (from scikit-learn==0.23.0) (3.0.0)\n",
            "Requirement already satisfied: scipy>=0.19.1 in /usr/local/lib/python3.7/dist-packages (from scikit-learn==0.23.0) (1.4.1)\n"
          ]
        }
      ]
    },
    {
      "cell_type": "code",
      "metadata": {
        "id": "UNYQBwLZLgFn"
      },
      "source": [
        "from sklearn.datasets import load_boston\n",
        "import matplotlib.pyplot as plt"
      ],
      "execution_count": 6,
      "outputs": []
    },
    {
      "cell_type": "markdown",
      "source": [
        "\n",
        "*   First array is propotie of houses\n",
        "*   Second array i the price of houses"
      ],
      "metadata": {
        "id": "syyPdFvN6D9n"
      }
    },
    {
      "cell_type": "code",
      "source": [
        "load_boston(return_X_y=True)"
      ],
      "metadata": {
        "colab": {
          "base_uri": "https://localhost:8080/"
        },
        "id": "_VvkXaWy5rD1",
        "outputId": "390b9ef7-549e-4a9b-85f9-c8ec31d11735"
      },
      "execution_count": 13,
      "outputs": [
        {
          "output_type": "stream",
          "name": "stderr",
          "text": [
            "/usr/local/lib/python3.7/dist-packages/sklearn/utils/deprecation.py:87: FutureWarning: Function load_boston is deprecated; `load_boston` is deprecated in 1.0 and will be removed in 1.2.\n",
            "\n",
            "    The Boston housing prices dataset has an ethical problem. You can refer to\n",
            "    the documentation of this function for further details.\n",
            "\n",
            "    The scikit-learn maintainers therefore strongly discourage the use of this\n",
            "    dataset unless the purpose of the code is to study and educate about\n",
            "    ethical issues in data science and machine learning.\n",
            "\n",
            "    In this special case, you can fetch the dataset from the original\n",
            "    source::\n",
            "\n",
            "        import pandas as pd\n",
            "        import numpy as np\n",
            "\n",
            "\n",
            "        data_url = \"http://lib.stat.cmu.edu/datasets/boston\"\n",
            "        raw_df = pd.read_csv(data_url, sep=\"\\s+\", skiprows=22, header=None)\n",
            "        data = np.hstack([raw_df.values[::2, :], raw_df.values[1::2, :2]])\n",
            "        target = raw_df.values[1::2, 2]\n",
            "\n",
            "    Alternative datasets include the California housing dataset (i.e.\n",
            "    :func:`~sklearn.datasets.fetch_california_housing`) and the Ames housing\n",
            "    dataset. You can load the datasets as follows::\n",
            "\n",
            "        from sklearn.datasets import fetch_california_housing\n",
            "        housing = fetch_california_housing()\n",
            "\n",
            "    for the California housing dataset and::\n",
            "\n",
            "        from sklearn.datasets import fetch_openml\n",
            "        housing = fetch_openml(name=\"house_prices\", as_frame=True)\n",
            "\n",
            "    for the Ames housing dataset.\n",
            "    \n",
            "  warnings.warn(msg, category=FutureWarning)\n"
          ]
        },
        {
          "output_type": "execute_result",
          "data": {
            "text/plain": [
              "(array([[6.3200e-03, 1.8000e+01, 2.3100e+00, ..., 1.5300e+01, 3.9690e+02,\n",
              "         4.9800e+00],\n",
              "        [2.7310e-02, 0.0000e+00, 7.0700e+00, ..., 1.7800e+01, 3.9690e+02,\n",
              "         9.1400e+00],\n",
              "        [2.7290e-02, 0.0000e+00, 7.0700e+00, ..., 1.7800e+01, 3.9283e+02,\n",
              "         4.0300e+00],\n",
              "        ...,\n",
              "        [6.0760e-02, 0.0000e+00, 1.1930e+01, ..., 2.1000e+01, 3.9690e+02,\n",
              "         5.6400e+00],\n",
              "        [1.0959e-01, 0.0000e+00, 1.1930e+01, ..., 2.1000e+01, 3.9345e+02,\n",
              "         6.4800e+00],\n",
              "        [4.7410e-02, 0.0000e+00, 1.1930e+01, ..., 2.1000e+01, 3.9690e+02,\n",
              "         7.8800e+00]]),\n",
              " array([24. , 21.6, 34.7, 33.4, 36.2, 28.7, 22.9, 27.1, 16.5, 18.9, 15. ,\n",
              "        18.9, 21.7, 20.4, 18.2, 19.9, 23.1, 17.5, 20.2, 18.2, 13.6, 19.6,\n",
              "        15.2, 14.5, 15.6, 13.9, 16.6, 14.8, 18.4, 21. , 12.7, 14.5, 13.2,\n",
              "        13.1, 13.5, 18.9, 20. , 21. , 24.7, 30.8, 34.9, 26.6, 25.3, 24.7,\n",
              "        21.2, 19.3, 20. , 16.6, 14.4, 19.4, 19.7, 20.5, 25. , 23.4, 18.9,\n",
              "        35.4, 24.7, 31.6, 23.3, 19.6, 18.7, 16. , 22.2, 25. , 33. , 23.5,\n",
              "        19.4, 22. , 17.4, 20.9, 24.2, 21.7, 22.8, 23.4, 24.1, 21.4, 20. ,\n",
              "        20.8, 21.2, 20.3, 28. , 23.9, 24.8, 22.9, 23.9, 26.6, 22.5, 22.2,\n",
              "        23.6, 28.7, 22.6, 22. , 22.9, 25. , 20.6, 28.4, 21.4, 38.7, 43.8,\n",
              "        33.2, 27.5, 26.5, 18.6, 19.3, 20.1, 19.5, 19.5, 20.4, 19.8, 19.4,\n",
              "        21.7, 22.8, 18.8, 18.7, 18.5, 18.3, 21.2, 19.2, 20.4, 19.3, 22. ,\n",
              "        20.3, 20.5, 17.3, 18.8, 21.4, 15.7, 16.2, 18. , 14.3, 19.2, 19.6,\n",
              "        23. , 18.4, 15.6, 18.1, 17.4, 17.1, 13.3, 17.8, 14. , 14.4, 13.4,\n",
              "        15.6, 11.8, 13.8, 15.6, 14.6, 17.8, 15.4, 21.5, 19.6, 15.3, 19.4,\n",
              "        17. , 15.6, 13.1, 41.3, 24.3, 23.3, 27. , 50. , 50. , 50. , 22.7,\n",
              "        25. , 50. , 23.8, 23.8, 22.3, 17.4, 19.1, 23.1, 23.6, 22.6, 29.4,\n",
              "        23.2, 24.6, 29.9, 37.2, 39.8, 36.2, 37.9, 32.5, 26.4, 29.6, 50. ,\n",
              "        32. , 29.8, 34.9, 37. , 30.5, 36.4, 31.1, 29.1, 50. , 33.3, 30.3,\n",
              "        34.6, 34.9, 32.9, 24.1, 42.3, 48.5, 50. , 22.6, 24.4, 22.5, 24.4,\n",
              "        20. , 21.7, 19.3, 22.4, 28.1, 23.7, 25. , 23.3, 28.7, 21.5, 23. ,\n",
              "        26.7, 21.7, 27.5, 30.1, 44.8, 50. , 37.6, 31.6, 46.7, 31.5, 24.3,\n",
              "        31.7, 41.7, 48.3, 29. , 24. , 25.1, 31.5, 23.7, 23.3, 22. , 20.1,\n",
              "        22.2, 23.7, 17.6, 18.5, 24.3, 20.5, 24.5, 26.2, 24.4, 24.8, 29.6,\n",
              "        42.8, 21.9, 20.9, 44. , 50. , 36. , 30.1, 33.8, 43.1, 48.8, 31. ,\n",
              "        36.5, 22.8, 30.7, 50. , 43.5, 20.7, 21.1, 25.2, 24.4, 35.2, 32.4,\n",
              "        32. , 33.2, 33.1, 29.1, 35.1, 45.4, 35.4, 46. , 50. , 32.2, 22. ,\n",
              "        20.1, 23.2, 22.3, 24.8, 28.5, 37.3, 27.9, 23.9, 21.7, 28.6, 27.1,\n",
              "        20.3, 22.5, 29. , 24.8, 22. , 26.4, 33.1, 36.1, 28.4, 33.4, 28.2,\n",
              "        22.8, 20.3, 16.1, 22.1, 19.4, 21.6, 23.8, 16.2, 17.8, 19.8, 23.1,\n",
              "        21. , 23.8, 23.1, 20.4, 18.5, 25. , 24.6, 23. , 22.2, 19.3, 22.6,\n",
              "        19.8, 17.1, 19.4, 22.2, 20.7, 21.1, 19.5, 18.5, 20.6, 19. , 18.7,\n",
              "        32.7, 16.5, 23.9, 31.2, 17.5, 17.2, 23.1, 24.5, 26.6, 22.9, 24.1,\n",
              "        18.6, 30.1, 18.2, 20.6, 17.8, 21.7, 22.7, 22.6, 25. , 19.9, 20.8,\n",
              "        16.8, 21.9, 27.5, 21.9, 23.1, 50. , 50. , 50. , 50. , 50. , 13.8,\n",
              "        13.8, 15. , 13.9, 13.3, 13.1, 10.2, 10.4, 10.9, 11.3, 12.3,  8.8,\n",
              "         7.2, 10.5,  7.4, 10.2, 11.5, 15.1, 23.2,  9.7, 13.8, 12.7, 13.1,\n",
              "        12.5,  8.5,  5. ,  6.3,  5.6,  7.2, 12.1,  8.3,  8.5,  5. , 11.9,\n",
              "        27.9, 17.2, 27.5, 15. , 17.2, 17.9, 16.3,  7. ,  7.2,  7.5, 10.4,\n",
              "         8.8,  8.4, 16.7, 14.2, 20.8, 13.4, 11.7,  8.3, 10.2, 10.9, 11. ,\n",
              "         9.5, 14.5, 14.1, 16.1, 14.3, 11.7, 13.4,  9.6,  8.7,  8.4, 12.8,\n",
              "        10.5, 17.1, 18.4, 15.4, 10.8, 11.8, 14.9, 12.6, 14.1, 13. , 13.4,\n",
              "        15.2, 16.1, 17.8, 14.9, 14.1, 12.7, 13.5, 14.9, 20. , 16.4, 17.7,\n",
              "        19.5, 20.2, 21.4, 19.9, 19. , 19.1, 19.1, 20.1, 19.9, 19.6, 23.2,\n",
              "        29.8, 13.8, 13.3, 16.7, 12. , 14.6, 21.4, 23. , 23.7, 25. , 21.8,\n",
              "        20.6, 21.2, 19.1, 20.6, 15.2,  7. ,  8.1, 13.6, 20.1, 21.8, 24.5,\n",
              "        23.1, 19.7, 18.3, 21.2, 17.5, 16.8, 22.4, 20.6, 23.9, 22. , 11.9]))"
            ]
          },
          "metadata": {},
          "execution_count": 13
        }
      ]
    },
    {
      "cell_type": "markdown",
      "source": [
        "\n",
        "[ ]\n",
        "X, y = load_boston(return_X_y=True)\n",
        "\n",
        "Load and return the boston house-prices dataset (regression).\n",
        "\n",
        "Parameters\n",
        "\n",
        "return_X_y : bool, default=False.\n",
        "    If True, returns (data, target) instead of a Bunch object.\n",
        "See below for more information about the data and target object.\n"
      ],
      "metadata": {
        "id": "jWHBVqJY61-U"
      }
    },
    {
      "cell_type": "code",
      "source": [
        "X, y = load_boston(return_X_y=True)  #not ethical !!!"
      ],
      "metadata": {
        "colab": {
          "base_uri": "https://localhost:8080/"
        },
        "id": "Crb2hsPl59iV",
        "outputId": "9a24486f-270c-43ba-a49f-f1c0a3b6a87e"
      },
      "execution_count": 14,
      "outputs": [
        {
          "output_type": "stream",
          "name": "stderr",
          "text": [
            "/usr/local/lib/python3.7/dist-packages/sklearn/utils/deprecation.py:87: FutureWarning: Function load_boston is deprecated; `load_boston` is deprecated in 1.0 and will be removed in 1.2.\n",
            "\n",
            "    The Boston housing prices dataset has an ethical problem. You can refer to\n",
            "    the documentation of this function for further details.\n",
            "\n",
            "    The scikit-learn maintainers therefore strongly discourage the use of this\n",
            "    dataset unless the purpose of the code is to study and educate about\n",
            "    ethical issues in data science and machine learning.\n",
            "\n",
            "    In this special case, you can fetch the dataset from the original\n",
            "    source::\n",
            "\n",
            "        import pandas as pd\n",
            "        import numpy as np\n",
            "\n",
            "\n",
            "        data_url = \"http://lib.stat.cmu.edu/datasets/boston\"\n",
            "        raw_df = pd.read_csv(data_url, sep=\"\\s+\", skiprows=22, header=None)\n",
            "        data = np.hstack([raw_df.values[::2, :], raw_df.values[1::2, :2]])\n",
            "        target = raw_df.values[1::2, 2]\n",
            "\n",
            "    Alternative datasets include the California housing dataset (i.e.\n",
            "    :func:`~sklearn.datasets.fetch_california_housing`) and the Ames housing\n",
            "    dataset. You can load the datasets as follows::\n",
            "\n",
            "        from sklearn.datasets import fetch_california_housing\n",
            "        housing = fetch_california_housing()\n",
            "\n",
            "    for the California housing dataset and::\n",
            "\n",
            "        from sklearn.datasets import fetch_openml\n",
            "        housing = fetch_openml(name=\"house_prices\", as_frame=True)\n",
            "\n",
            "    for the Ames housing dataset.\n",
            "    \n",
            "  warnings.warn(msg, category=FutureWarning)\n"
          ]
        }
      ]
    },
    {
      "cell_type": "markdown",
      "source": [
        "Model\n",
        "*  create the model: python object\n",
        "*  learn .fit(X, y) \n",
        "\n",
        "Even we use 2 different regresion API is the same. still. fi.predict\n",
        "this makes skitlearn you can stick with the general api and not wory much for internals. "
      ],
      "metadata": {
        "id": "QyHLEOKc998g"
      }
    },
    {
      "cell_type": "code",
      "source": [
        "from sklearn.neighbors import KNeighborsRegressor\n",
        "from sklearn.linear_model import LinearRegression\n",
        "from sklearn.preprocessing import StandardScaler\n",
        "from sklearn.pipeline import Pipeline"
      ],
      "metadata": {
        "id": "RMAYv9MA-jWt"
      },
      "execution_count": 15,
      "outputs": []
    },
    {
      "cell_type": "markdown",
      "source": [
        "**Pipeline**"
      ],
      "metadata": {
        "id": "TxZszDEIIocz"
      }
    },
    {
      "cell_type": "code",
      "source": [
        "#model = KNeighborsRegressor() #we need to pass object when we use pipeline\n",
        "pipe = Pipeline([(\"scale\", StandardScaler()),\n",
        "                (\"model\", KNeighborsRegressor(n_neighbors=1))\n",
        "                ])\n",
        "pipe.get_params()"
      ],
      "metadata": {
        "colab": {
          "base_uri": "https://localhost:8080/"
        },
        "id": "xJmyvWXH-7Wn",
        "outputId": "a9e859e5-3236-4db8-e8a0-44b9394cf437"
      },
      "execution_count": 42,
      "outputs": [
        {
          "output_type": "execute_result",
          "data": {
            "text/plain": [
              "{'memory': None,\n",
              " 'model': KNeighborsRegressor(n_neighbors=1),\n",
              " 'model__algorithm': 'auto',\n",
              " 'model__leaf_size': 30,\n",
              " 'model__metric': 'minkowski',\n",
              " 'model__metric_params': None,\n",
              " 'model__n_jobs': None,\n",
              " 'model__n_neighbors': 1,\n",
              " 'model__p': 2,\n",
              " 'model__weights': 'uniform',\n",
              " 'scale': StandardScaler(),\n",
              " 'scale__copy': True,\n",
              " 'scale__with_mean': True,\n",
              " 'scale__with_std': True,\n",
              " 'steps': [('scale', StandardScaler()),\n",
              "  ('model', KNeighborsRegressor(n_neighbors=1))],\n",
              " 'verbose': False}"
            ]
          },
          "metadata": {},
          "execution_count": 42
        }
      ]
    },
    {
      "cell_type": "markdown",
      "source": [
        "\n",
        "\n",
        "> Number of prediction we making number of rows in Xarray\n",
        "\n"
      ],
      "metadata": {
        "id": "011D9Ulb_cTI"
      }
    },
    {
      "cell_type": "markdown",
      "source": [
        "**GridsearchCV** "
      ],
      "metadata": {
        "id": "pgrTLP1oItSF"
      }
    },
    {
      "cell_type": "code",
      "source": [
        "from sklearn.model_selection import GridSearchCV\n",
        "import pandas as pd "
      ],
      "metadata": {
        "id": "m7BmCGE0A3cI"
      },
      "execution_count": 48,
      "outputs": []
    },
    {
      "cell_type": "code",
      "source": [
        "# when using the grid shearch, we nned to carryfuly because it looks like you doing righ prediction but it can actualy go wrong with the guess\n",
        "#check data and understand the data better\n",
        "#ethics   feedback   fallback\n",
        "model = GridSearchCV(estimator=pipe,\n",
        "             param_grid= {'model__n_neighbors' : [1, 2, 3, 4, 5, 6, 7, 8, 9, 10]}, #it will present all the setting we would like to trogh on pipleine\n",
        "             cv=3)"
      ],
      "metadata": {
        "id": "P4zwk-U1JR5D"
      },
      "execution_count": 46,
      "outputs": []
    },
    {
      "cell_type": "code",
      "source": [
        "model.fit(X, y); #all setting cross validation happens in the back\n",
        "model.cv_results_ #when gridshearchtrained ever x val every settingits keeping track"
      ],
      "metadata": {
        "colab": {
          "base_uri": "https://localhost:8080/"
        },
        "id": "5W1lo6dRKdMF",
        "outputId": "9857bb99-a1ab-4f3a-dc3a-3bf2ced27d86"
      },
      "execution_count": 47,
      "outputs": [
        {
          "output_type": "execute_result",
          "data": {
            "text/plain": [
              "{'mean_fit_time': array([0.00263246, 0.00134182, 0.0012575 , 0.00120497, 0.00120179,\n",
              "        0.00122285, 0.0012087 , 0.00123413, 0.00131861, 0.00119511]),\n",
              " 'mean_score_time': array([0.00290704, 0.00176072, 0.0017461 , 0.00180801, 0.00192746,\n",
              "        0.00190473, 0.00195249, 0.00200295, 0.00204674, 0.00208354]),\n",
              " 'mean_test_score': array([0.26252234, 0.31324616, 0.40289991, 0.38361915, 0.37428628,\n",
              "        0.39053243, 0.39121648, 0.39800268, 0.39438696, 0.39187032]),\n",
              " 'param_model__n_neighbors': masked_array(data=[1, 2, 3, 4, 5, 6, 7, 8, 9, 10],\n",
              "              mask=[False, False, False, False, False, False, False, False,\n",
              "                    False, False],\n",
              "        fill_value='?',\n",
              "             dtype=object),\n",
              " 'params': [{'model__n_neighbors': 1},\n",
              "  {'model__n_neighbors': 2},\n",
              "  {'model__n_neighbors': 3},\n",
              "  {'model__n_neighbors': 4},\n",
              "  {'model__n_neighbors': 5},\n",
              "  {'model__n_neighbors': 6},\n",
              "  {'model__n_neighbors': 7},\n",
              "  {'model__n_neighbors': 8},\n",
              "  {'model__n_neighbors': 9},\n",
              "  {'model__n_neighbors': 10}],\n",
              " 'rank_test_score': array([10,  9,  1,  7,  8,  6,  5,  2,  3,  4], dtype=int32),\n",
              " 'split0_test_score': array([0.22693329, 0.35821598, 0.41351516, 0.47534925, 0.51231833,\n",
              "        0.53361129, 0.54478246, 0.58964376, 0.59035206, 0.61651003]),\n",
              " 'split1_test_score': array([0.43299842, 0.40922862, 0.47665059, 0.40249466, 0.34795076,\n",
              "        0.38950367, 0.3851989 , 0.39465045, 0.40755617, 0.39507748]),\n",
              " 'split2_test_score': array([0.12763531, 0.17229388, 0.31853397, 0.27301356, 0.26258974,\n",
              "        0.24848232, 0.24366808, 0.20971383, 0.18525266, 0.16402344]),\n",
              " 'std_fit_time': array([7.53594033e-04, 5.51384740e-05, 3.32365723e-05, 2.16221685e-05,\n",
              "        2.84037379e-05, 6.94558240e-06, 1.04185251e-05, 4.04470793e-05,\n",
              "        1.03573109e-04, 1.95738927e-05]),\n",
              " 'std_score_time': array([2.05274474e-04, 3.38459225e-05, 7.48268100e-05, 7.00202349e-05,\n",
              "        1.38002464e-04, 1.02132798e-04, 1.40166650e-04, 1.29704528e-04,\n",
              "        9.93320461e-05, 1.08838712e-04]),\n",
              " 'std_test_score': array([0.1271786 , 0.10182086, 0.06498579, 0.08367456, 0.10363803,\n",
              "        0.11640569, 0.12300305, 0.15512386, 0.16564309, 0.1847408 ])}"
            ]
          },
          "metadata": {},
          "execution_count": 47
        }
      ]
    },
    {
      "cell_type": "code",
      "source": [
        "pd.DataFrame(model.cv_results_)"
      ],
      "metadata": {
        "colab": {
          "base_uri": "https://localhost:8080/",
          "height": 600
        },
        "id": "ZvryT1paKohl",
        "outputId": "38267b90-b5cf-4fc0-b0be-6c07d37112dc"
      },
      "execution_count": 50,
      "outputs": [
        {
          "output_type": "execute_result",
          "data": {
            "text/html": [
              "\n",
              "  <div id=\"df-b5d18f4a-d346-4694-8082-0e5446893fb2\">\n",
              "    <div class=\"colab-df-container\">\n",
              "      <div>\n",
              "<style scoped>\n",
              "    .dataframe tbody tr th:only-of-type {\n",
              "        vertical-align: middle;\n",
              "    }\n",
              "\n",
              "    .dataframe tbody tr th {\n",
              "        vertical-align: top;\n",
              "    }\n",
              "\n",
              "    .dataframe thead th {\n",
              "        text-align: right;\n",
              "    }\n",
              "</style>\n",
              "<table border=\"1\" class=\"dataframe\">\n",
              "  <thead>\n",
              "    <tr style=\"text-align: right;\">\n",
              "      <th></th>\n",
              "      <th>mean_fit_time</th>\n",
              "      <th>std_fit_time</th>\n",
              "      <th>mean_score_time</th>\n",
              "      <th>std_score_time</th>\n",
              "      <th>param_model__n_neighbors</th>\n",
              "      <th>params</th>\n",
              "      <th>split0_test_score</th>\n",
              "      <th>split1_test_score</th>\n",
              "      <th>split2_test_score</th>\n",
              "      <th>mean_test_score</th>\n",
              "      <th>std_test_score</th>\n",
              "      <th>rank_test_score</th>\n",
              "    </tr>\n",
              "  </thead>\n",
              "  <tbody>\n",
              "    <tr>\n",
              "      <th>0</th>\n",
              "      <td>0.002632</td>\n",
              "      <td>0.000754</td>\n",
              "      <td>0.002907</td>\n",
              "      <td>0.000205</td>\n",
              "      <td>1</td>\n",
              "      <td>{'model__n_neighbors': 1}</td>\n",
              "      <td>0.226933</td>\n",
              "      <td>0.432998</td>\n",
              "      <td>0.127635</td>\n",
              "      <td>0.262522</td>\n",
              "      <td>0.127179</td>\n",
              "      <td>10</td>\n",
              "    </tr>\n",
              "    <tr>\n",
              "      <th>1</th>\n",
              "      <td>0.001342</td>\n",
              "      <td>0.000055</td>\n",
              "      <td>0.001761</td>\n",
              "      <td>0.000034</td>\n",
              "      <td>2</td>\n",
              "      <td>{'model__n_neighbors': 2}</td>\n",
              "      <td>0.358216</td>\n",
              "      <td>0.409229</td>\n",
              "      <td>0.172294</td>\n",
              "      <td>0.313246</td>\n",
              "      <td>0.101821</td>\n",
              "      <td>9</td>\n",
              "    </tr>\n",
              "    <tr>\n",
              "      <th>2</th>\n",
              "      <td>0.001257</td>\n",
              "      <td>0.000033</td>\n",
              "      <td>0.001746</td>\n",
              "      <td>0.000075</td>\n",
              "      <td>3</td>\n",
              "      <td>{'model__n_neighbors': 3}</td>\n",
              "      <td>0.413515</td>\n",
              "      <td>0.476651</td>\n",
              "      <td>0.318534</td>\n",
              "      <td>0.402900</td>\n",
              "      <td>0.064986</td>\n",
              "      <td>1</td>\n",
              "    </tr>\n",
              "    <tr>\n",
              "      <th>3</th>\n",
              "      <td>0.001205</td>\n",
              "      <td>0.000022</td>\n",
              "      <td>0.001808</td>\n",
              "      <td>0.000070</td>\n",
              "      <td>4</td>\n",
              "      <td>{'model__n_neighbors': 4}</td>\n",
              "      <td>0.475349</td>\n",
              "      <td>0.402495</td>\n",
              "      <td>0.273014</td>\n",
              "      <td>0.383619</td>\n",
              "      <td>0.083675</td>\n",
              "      <td>7</td>\n",
              "    </tr>\n",
              "    <tr>\n",
              "      <th>4</th>\n",
              "      <td>0.001202</td>\n",
              "      <td>0.000028</td>\n",
              "      <td>0.001927</td>\n",
              "      <td>0.000138</td>\n",
              "      <td>5</td>\n",
              "      <td>{'model__n_neighbors': 5}</td>\n",
              "      <td>0.512318</td>\n",
              "      <td>0.347951</td>\n",
              "      <td>0.262590</td>\n",
              "      <td>0.374286</td>\n",
              "      <td>0.103638</td>\n",
              "      <td>8</td>\n",
              "    </tr>\n",
              "    <tr>\n",
              "      <th>5</th>\n",
              "      <td>0.001223</td>\n",
              "      <td>0.000007</td>\n",
              "      <td>0.001905</td>\n",
              "      <td>0.000102</td>\n",
              "      <td>6</td>\n",
              "      <td>{'model__n_neighbors': 6}</td>\n",
              "      <td>0.533611</td>\n",
              "      <td>0.389504</td>\n",
              "      <td>0.248482</td>\n",
              "      <td>0.390532</td>\n",
              "      <td>0.116406</td>\n",
              "      <td>6</td>\n",
              "    </tr>\n",
              "    <tr>\n",
              "      <th>6</th>\n",
              "      <td>0.001209</td>\n",
              "      <td>0.000010</td>\n",
              "      <td>0.001952</td>\n",
              "      <td>0.000140</td>\n",
              "      <td>7</td>\n",
              "      <td>{'model__n_neighbors': 7}</td>\n",
              "      <td>0.544782</td>\n",
              "      <td>0.385199</td>\n",
              "      <td>0.243668</td>\n",
              "      <td>0.391216</td>\n",
              "      <td>0.123003</td>\n",
              "      <td>5</td>\n",
              "    </tr>\n",
              "    <tr>\n",
              "      <th>7</th>\n",
              "      <td>0.001234</td>\n",
              "      <td>0.000040</td>\n",
              "      <td>0.002003</td>\n",
              "      <td>0.000130</td>\n",
              "      <td>8</td>\n",
              "      <td>{'model__n_neighbors': 8}</td>\n",
              "      <td>0.589644</td>\n",
              "      <td>0.394650</td>\n",
              "      <td>0.209714</td>\n",
              "      <td>0.398003</td>\n",
              "      <td>0.155124</td>\n",
              "      <td>2</td>\n",
              "    </tr>\n",
              "    <tr>\n",
              "      <th>8</th>\n",
              "      <td>0.001319</td>\n",
              "      <td>0.000104</td>\n",
              "      <td>0.002047</td>\n",
              "      <td>0.000099</td>\n",
              "      <td>9</td>\n",
              "      <td>{'model__n_neighbors': 9}</td>\n",
              "      <td>0.590352</td>\n",
              "      <td>0.407556</td>\n",
              "      <td>0.185253</td>\n",
              "      <td>0.394387</td>\n",
              "      <td>0.165643</td>\n",
              "      <td>3</td>\n",
              "    </tr>\n",
              "    <tr>\n",
              "      <th>9</th>\n",
              "      <td>0.001195</td>\n",
              "      <td>0.000020</td>\n",
              "      <td>0.002084</td>\n",
              "      <td>0.000109</td>\n",
              "      <td>10</td>\n",
              "      <td>{'model__n_neighbors': 10}</td>\n",
              "      <td>0.616510</td>\n",
              "      <td>0.395077</td>\n",
              "      <td>0.164023</td>\n",
              "      <td>0.391870</td>\n",
              "      <td>0.184741</td>\n",
              "      <td>4</td>\n",
              "    </tr>\n",
              "  </tbody>\n",
              "</table>\n",
              "</div>\n",
              "      <button class=\"colab-df-convert\" onclick=\"convertToInteractive('df-b5d18f4a-d346-4694-8082-0e5446893fb2')\"\n",
              "              title=\"Convert this dataframe to an interactive table.\"\n",
              "              style=\"display:none;\">\n",
              "        \n",
              "  <svg xmlns=\"http://www.w3.org/2000/svg\" height=\"24px\"viewBox=\"0 0 24 24\"\n",
              "       width=\"24px\">\n",
              "    <path d=\"M0 0h24v24H0V0z\" fill=\"none\"/>\n",
              "    <path d=\"M18.56 5.44l.94 2.06.94-2.06 2.06-.94-2.06-.94-.94-2.06-.94 2.06-2.06.94zm-11 1L8.5 8.5l.94-2.06 2.06-.94-2.06-.94L8.5 2.5l-.94 2.06-2.06.94zm10 10l.94 2.06.94-2.06 2.06-.94-2.06-.94-.94-2.06-.94 2.06-2.06.94z\"/><path d=\"M17.41 7.96l-1.37-1.37c-.4-.4-.92-.59-1.43-.59-.52 0-1.04.2-1.43.59L10.3 9.45l-7.72 7.72c-.78.78-.78 2.05 0 2.83L4 21.41c.39.39.9.59 1.41.59.51 0 1.02-.2 1.41-.59l7.78-7.78 2.81-2.81c.8-.78.8-2.07 0-2.86zM5.41 20L4 18.59l7.72-7.72 1.47 1.35L5.41 20z\"/>\n",
              "  </svg>\n",
              "      </button>\n",
              "      \n",
              "  <style>\n",
              "    .colab-df-container {\n",
              "      display:flex;\n",
              "      flex-wrap:wrap;\n",
              "      gap: 12px;\n",
              "    }\n",
              "\n",
              "    .colab-df-convert {\n",
              "      background-color: #E8F0FE;\n",
              "      border: none;\n",
              "      border-radius: 50%;\n",
              "      cursor: pointer;\n",
              "      display: none;\n",
              "      fill: #1967D2;\n",
              "      height: 32px;\n",
              "      padding: 0 0 0 0;\n",
              "      width: 32px;\n",
              "    }\n",
              "\n",
              "    .colab-df-convert:hover {\n",
              "      background-color: #E2EBFA;\n",
              "      box-shadow: 0px 1px 2px rgba(60, 64, 67, 0.3), 0px 1px 3px 1px rgba(60, 64, 67, 0.15);\n",
              "      fill: #174EA6;\n",
              "    }\n",
              "\n",
              "    [theme=dark] .colab-df-convert {\n",
              "      background-color: #3B4455;\n",
              "      fill: #D2E3FC;\n",
              "    }\n",
              "\n",
              "    [theme=dark] .colab-df-convert:hover {\n",
              "      background-color: #434B5C;\n",
              "      box-shadow: 0px 1px 3px 1px rgba(0, 0, 0, 0.15);\n",
              "      filter: drop-shadow(0px 1px 2px rgba(0, 0, 0, 0.3));\n",
              "      fill: #FFFFFF;\n",
              "    }\n",
              "  </style>\n",
              "\n",
              "      <script>\n",
              "        const buttonEl =\n",
              "          document.querySelector('#df-b5d18f4a-d346-4694-8082-0e5446893fb2 button.colab-df-convert');\n",
              "        buttonEl.style.display =\n",
              "          google.colab.kernel.accessAllowed ? 'block' : 'none';\n",
              "\n",
              "        async function convertToInteractive(key) {\n",
              "          const element = document.querySelector('#df-b5d18f4a-d346-4694-8082-0e5446893fb2');\n",
              "          const dataTable =\n",
              "            await google.colab.kernel.invokeFunction('convertToInteractive',\n",
              "                                                     [key], {});\n",
              "          if (!dataTable) return;\n",
              "\n",
              "          const docLinkHtml = 'Like what you see? Visit the ' +\n",
              "            '<a target=\"_blank\" href=https://colab.research.google.com/notebooks/data_table.ipynb>data table notebook</a>'\n",
              "            + ' to learn more about interactive tables.';\n",
              "          element.innerHTML = '';\n",
              "          dataTable['output_type'] = 'display_data';\n",
              "          await google.colab.output.renderOutput(dataTable, element);\n",
              "          const docLink = document.createElement('div');\n",
              "          docLink.innerHTML = docLinkHtml;\n",
              "          element.appendChild(docLink);\n",
              "        }\n",
              "      </script>\n",
              "    </div>\n",
              "  </div>\n",
              "  "
            ],
            "text/plain": [
              "   mean_fit_time  std_fit_time  ...  std_test_score  rank_test_score\n",
              "0       0.002632      0.000754  ...        0.127179               10\n",
              "1       0.001342      0.000055  ...        0.101821                9\n",
              "2       0.001257      0.000033  ...        0.064986                1\n",
              "3       0.001205      0.000022  ...        0.083675                7\n",
              "4       0.001202      0.000028  ...        0.103638                8\n",
              "5       0.001223      0.000007  ...        0.116406                6\n",
              "6       0.001209      0.000010  ...        0.123003                5\n",
              "7       0.001234      0.000040  ...        0.155124                2\n",
              "8       0.001319      0.000104  ...        0.165643                3\n",
              "9       0.001195      0.000020  ...        0.184741                4\n",
              "\n",
              "[10 rows x 12 columns]"
            ]
          },
          "metadata": {},
          "execution_count": 50
        }
      ]
    },
    {
      "cell_type": "code",
      "source": [
        ""
      ],
      "metadata": {
        "id": "UgyMhh_yKv-T"
      },
      "execution_count": null,
      "outputs": []
    }
  ]
}